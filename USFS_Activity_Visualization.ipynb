{
 "cells": [
  {
   "cell_type": "markdown",
   "metadata": {},
   "source": [
    "<h2>Create class and functions</h2>"
   ]
  },
  {
   "cell_type": "code",
   "execution_count": 1,
   "metadata": {},
   "outputs": [],
   "source": [
    "class CustomChart:\n",
    "    \n",
    "    def __init__(self):\n",
    "        import arcpy\n",
    "        from arcgis.gis import GIS\n",
    "        gis = GIS(\"home\")\n",
    "        \n",
    "    def ChooseStyle(self):\n",
    "        style = input(\"Please enter if you would like to save a bar or pie chart (Enter Bar or Pie): \\n\")\n",
    "        return style\n",
    "        \n",
    "    def PieChart(self):\n",
    "        year = input(\"Please enter the year you would like to view here: \\n\")\n",
    "        bound = input(\"Please enter the administrative boundary you would like to use here (Enter Region or Forest): \\n\")\n",
    "        act_type = input(\"Please enter the type of activity you're analyzing (Enter Range Vegetation Improvement, Reforestation, or Timber Stand Improvement): \\n\")    \n",
    "        if act_type == \"Range Vegetation Improvement\":\n",
    "            act = \"RangeVegImprovement\"\n",
    "        elif act_type == \"Reforestation\":\n",
    "            act = act_type\n",
    "        elif act_type == \"Timber Stand Improvement\":\n",
    "            act = \"TimberStndImprovement\"\n",
    "        data = input(\"Please enter the url of your data source here (example: https://services1.arcgis.com/ZIL9uO234SBBPGL7/arcgis/rest/services/Reforestation_Acres_Region/FeatureServer/0): \\n\")\n",
    "        output_dir = input(\"Enter the location you want to save your chart svg file (example of format needed, follow it exactly: C:\\\\\\\\Users\\\\\\\\lastname\\\\\\\\Desktop): \\n\")\n",
    "        mypie = arcpy.Chart(bound + \"_\" + act + '_Acreage_Pie_' + year)\n",
    "        mypie = arcpy.charts.Pie(categoryField = bound, numberFields = \"F\" + year, groupingPercent = 0, sort = \"LABEL_CLOCKWISE\", title = act_type + \" Acreage by \" + bound + \" in \" + year, dataSource = data)\n",
    "        mypie.legend.title = bound\n",
    "        mypie.exportToSVG(output_dir + '\\\\' + bound + \"_\" + act + '_Acreage_Pie_' + year + \".svg\", 500, 300)\n",
    "        print(\"\\nYour file has been downloaded here: \" + \"\\033[1m\" + output_dir + '\\\\' + bound + \"_\" + act + '_Acreage_Pie_' + year + \".svg\\033[1m\")\n",
    "        \n",
    "    def BarChart(self):\n",
    "        year = input(\"Please enter the year you would like to view here: \\n\")\n",
    "        bound = input(\"Please enter the administrative boundary you would like to use here (Enter Region or Forest): \\n\")\n",
    "        act_type = input(\"Please enter the type of activity you're analyzing (Enter Range Vegetation Improvement, Reforestation, or Timber Stand Improvement): \\n\")     \n",
    "        if act_type == \"Range Vegetation Improvement\":\n",
    "            act = \"RangeVegImprovement\"\n",
    "        elif act_type == \"Reforestation\":\n",
    "            act = act_type\n",
    "        elif act_type == \"Timber Stand Improvement\":\n",
    "            act = \"TimberStndImprovement\"\n",
    "        data = input(\"Please enter the url of your data source here (example: https://services1.arcgis.com/ZIL9uO234SBBPGL7/arcgis/rest/services/Reforestation_Acres_Region/FeatureServer/0): \\n\")\n",
    "        output_dir = input(\"Enter the location you want to save your chart svg file (example of format needed, follow it exactly: C:\\\\\\\\Users\\\\\\\\lastname\\\\\\\\Desktop): \\n\")\n",
    "        mybar = arcpy.Chart(bound + \"_\" + act + '_Acreage_Bar_' + year)\n",
    "        mybar.title = act_type + \" Acreage by \" + bound + \" in \" + year\n",
    "        mybar.type = \"bar\"\n",
    "        mybar.xAxis.field = bound\n",
    "        mybar.yAxis.field = \"F\" + year\n",
    "        mybar.xAxis.title = bound\n",
    "        mybar.yAxis.title = \"Acres\"\n",
    "        mybar.dataSource = data\n",
    "        mybar.exportToSVG(output_dir + '\\\\' + bound + \"_\" + act + '_Acreage_Bar_' + year + \".svg\", 500, 500)\n",
    "        print(\"\\nYour file has been downloaded here: \" + \"\\033[1m\" + output_dir + '\\\\' + bound + \"_\" + act + '_Acreage_Bar_' + year + \".svg\\033[1m\")"
   ]
  },
  {
   "cell_type": "markdown",
   "metadata": {},
   "source": [
    "<h2>Create CustomChart object instance</h2>"
   ]
  },
  {
   "cell_type": "code",
   "execution_count": 2,
   "metadata": {},
   "outputs": [],
   "source": [
    "chart = CustomChart()"
   ]
  },
  {
   "cell_type": "markdown",
   "metadata": {},
   "source": [
    "<h2>Choose your chart style</h2>\n",
    "<h3>Be SURE to follow syntax prescribed by prompts exactly or it will not work</h3>"
   ]
  },
  {
   "cell_type": "code",
   "execution_count": null,
   "metadata": {
    "scrolled": true
   },
   "outputs": [],
   "source": [
    "chartstyle = chart.ChooseStyle()"
   ]
  },
  {
   "cell_type": "markdown",
   "metadata": {},
   "source": [
    "<h2>Generate chart .svg file</h2>\n",
    "<h3>If you receive this error \"RuntimeError: Field names (not aliases) are expected. Invalid field names provided:\" you've entered a year without activity data for it</h3>"
   ]
  },
  {
   "cell_type": "code",
   "execution_count": null,
   "metadata": {
    "scrolled": false
   },
   "outputs": [],
   "source": [
    "if chartstyle == \"Pie\":\n",
    "    chart.PieChart()\n",
    "elif chartstyle == \"Bar\":\n",
    "    chart.BarChart()"
   ]
  },
  {
   "cell_type": "code",
   "execution_count": null,
   "metadata": {},
   "outputs": [],
   "source": []
  }
 ],
 "metadata": {
  "kernelspec": {
   "display_name": "ArcGISPro",
   "language": "Python",
   "name": "python3"
  },
  "language_info": {
   "file_extension": ".py",
   "name": "python",
   "version": "3"
  }
 },
 "nbformat": 4,
 "nbformat_minor": 2
}
